{
 "cells": [
  {
   "cell_type": "code",
   "execution_count": 1,
   "metadata": {},
   "outputs": [],
   "source": [
    "# monthly_charge_package = pd.pivot_table(df_telco,\n",
    "                    #    values=['monthly_charges'],\n",
    "                    #    index=['phone_service', 'internet_service_type'],\n",
    "                    #    aggfunc={'monthly_charges': np.mean}).unstack().replace(np.nan, 0).round(2)\n",
    "# \n",
    "# \n",
    "# Preparation - Feature Engineering\n",
    "# 2nd iteration\n",
    "# add_ons = df_telco[['online_security',\n",
    "#                     'online_backup',\n",
    "#                     'device_protection',\n",
    "#                     'tech_support',\n",
    "#                     'streaming_tv',\n",
    "#                     'streaming_movies']]\n",
    "\n",
    "\n",
    "\n",
    "# pd.crosstab(add_ons.online_backup, add_ons.online_security, normalize=True).round(2)\n",
    "\n",
    "\n",
    "# logreg_feature_weights = pd.DataFrame(logreg.coef_.T, index=X_train.columns).set_index(X_train.columns)\n",
    "# logreg_feature_weights.rename(columns={0:'Weights'}, inplace=True)\n",
    "\n",
    "# logreg_feature_weights[abs(logreg_feature_weights) > .2].dropna().sort_values(by='Weights')\n",
    "\n",
    "# forest_feature_percentage = pd.DataFrame({'Percentage': forest.feature_importances_},\n",
    "#              index=X_train.columns\n",
    "#             ).sort_values(by='Percentage', ascending=False)\n",
    "\n",
    "# forest_feature_percentage[forest_feature_percentage > .02].dropna()\n",
    "\n",
    "# rforest_feature_percentage = pd.DataFrame({'Percentage': rforest.feature_importances_},\n",
    "#              index=X_train.columns\n",
    "#             ).sort_values(by='Percentage', ascending=False)\n",
    "\n",
    "# forest_feature_percentage[forest_feature_percentage > .02].dropna()\n",
    "\n",
    "# sns.barplot(y=df_telco.senior_citizen.value_counts(normalize=True),\n",
    "#             x=['Under 65','65 and Over'])\n",
    "\n",
    "# plt.title(\"Customer Demographics: Age\")\n",
    "# plt.ylabel('% of Total Customers');"
   ]
  }
 ],
 "metadata": {
  "kernelspec": {
   "display_name": "Python 3",
   "language": "python",
   "name": "python3"
  },
  "language_info": {
   "codemirror_mode": {
    "name": "ipython",
    "version": 3
   },
   "file_extension": ".py",
   "mimetype": "text/x-python",
   "name": "python",
   "nbconvert_exporter": "python",
   "pygments_lexer": "ipython3",
   "version": "3.7.6"
  }
 },
 "nbformat": 4,
 "nbformat_minor": 4
}