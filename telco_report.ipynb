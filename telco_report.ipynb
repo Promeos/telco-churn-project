{
 "cells": [
  {
   "cell_type": "markdown",
   "metadata": {},
   "source": [
    "# Telco Project\n",
    "***\n",
    "### Project Description\n",
    "Accurately predict customer churn using machine learning classification\n",
    "algorithms\n",
    "\n",
    "__Tasks__\n",
    "- [ ] Introduce __\"Telco\"__\n",
    "- [ ] Business model\n",
    "- [ ] Business problem\n",
    "\n",
    "### Table of Contents:\n",
    "1. [Planning](#Planning)\n",
    "2. [Acquisition](#Acquisition)\n",
    "3. [Preparation](#Preparation)\n",
    "4. [Exploration](#Exploration)\n",
    "5. [Modeling](#Modeling)\n",
    "6. [Delivery](#Delivery)\n",
    "\n",
    "## Planning\n",
    "---\n",
    " - [ ] Goal(s)\n",
    "     - [ ] Find drivers of customer churn\n",
    "     - [ ] Accurately predict customer churn at Telco.\n",
    " - [ ] Measure(s) of success\n",
    "     - [ ] Hypothesis testing\n",
    "     - [ ] Baseline accuracy\n",
    "     - [ ] 3 classification models\n",
    "         - [ ] Model performance: train, validate, test\n",
    "         - [ ] Hyperparameter tuning\n",
    " - [ ] Plan to achieve 1 & 2\n",
    " - [ ] Develop hypotheses"
   ]
  },
  {
   "cell_type": "markdown",
   "metadata": {},
   "source": [
    "## Acquisition\n",
    "--------------\n",
    "- [ ] Instructions to acquire data\n",
    "- [x] Upload `.csv` file to repository - file named `telecom_data.csv`\n",
    "- [ ] acquire.py file\n",
    "    1. [x] Write functions to acquire telco dataset\n",
    "    2. [ ] Write docstring for each function"
   ]
  },
  {
   "cell_type": "code",
   "execution_count": 1,
   "metadata": {},
   "outputs": [],
   "source": [
    "import pandas as pd\n",
    "import acquire"
   ]
  },
  {
   "cell_type": "code",
   "execution_count": null,
   "metadata": {},
   "outputs": [],
   "source": []
  },
  {
   "cell_type": "markdown",
   "metadata": {},
   "source": [
    "## Preparation and Processing\n",
    "---\n",
    "- [ ] Document process\n",
    "- [ ] Create `prepare.py` file\n",
    "    - [ ] Create functions to clean data\n",
    "    - [ ] Store functions in a separate file, `prepare.py`\n",
    "- [ ] Clean data\n",
    "    - [ ] __tidy-data__ mindset\n",
    "    - [ ] Change datatypes\n",
    "        - [ ] Create encoded variables from categorical variables\n",
    "    - [ ] Round numeric floating-point values\n",
    "    \n",
    "\n"
   ]
  },
  {
   "cell_type": "code",
   "execution_count": null,
   "metadata": {},
   "outputs": [],
   "source": []
  },
  {
   "cell_type": "markdown",
   "metadata": {},
   "source": [
    "## Exploration\n",
    "---\n",
    "- [ ] Statistical Analysis\n",
    "    - [ ] Restate hypothesis here\n",
    "    - [ ] Test hypotheses\n",
    "    - [ ] Plot distributions\n",
    "- [ ] Create visuals\n",
    "- [ ] Present and summarize key findings"
   ]
  },
  {
   "cell_type": "code",
   "execution_count": null,
   "metadata": {},
   "outputs": [],
   "source": []
  },
  {
   "cell_type": "markdown",
   "metadata": {},
   "source": [
    "## Modeling\n",
    "---\n",
    "- [ ] sklearn.domymathhomework.classification_models\n",
    "    - [ ] Create 3 classification models"
   ]
  },
  {
   "cell_type": "code",
   "execution_count": null,
   "metadata": {},
   "outputs": [],
   "source": []
  },
  {
   "cell_type": "markdown",
   "metadata": {},
   "source": [
    "## Delivery\n",
    "---\n",
    "\n",
    "- [ ] Summarize/Recap key findings\n",
    "    - [ ] Drivers"
   ]
  },
  {
   "cell_type": "code",
   "execution_count": null,
   "metadata": {},
   "outputs": [],
   "source": []
  },
  {
   "cell_type": "markdown",
   "metadata": {},
   "source": [
    "[Return to the top](#Telco-Project)"
   ]
  },
  {
   "cell_type": "markdown",
   "metadata": {},
   "source": [
    "# Notes"
   ]
  },
  {
   "cell_type": "code",
   "execution_count": 3,
   "metadata": {},
   "outputs": [],
   "source": [
    "# import pandas as pd\n",
    "# from acquire import get_telecom_data"
   ]
  },
  {
   "cell_type": "code",
   "execution_count": 4,
   "metadata": {},
   "outputs": [],
   "source": [
    "# df = get_telecom_data()"
   ]
  },
  {
   "cell_type": "code",
   "execution_count": 5,
   "metadata": {},
   "outputs": [],
   "source": [
    "# df.head()"
   ]
  },
  {
   "cell_type": "code",
   "execution_count": 6,
   "metadata": {},
   "outputs": [],
   "source": [
    "# df.info()"
   ]
  },
  {
   "cell_type": "markdown",
   "metadata": {},
   "source": [
    "### Initial Analysis Tidy-Data"
   ]
  },
  {
   "cell_type": "code",
   "execution_count": 7,
   "metadata": {},
   "outputs": [],
   "source": [
    "# set binary types\n",
    "# (df.select_dtypes('O').nunique() == 2)"
   ]
  },
  {
   "cell_type": "code",
   "execution_count": 8,
   "metadata": {},
   "outputs": [],
   "source": [
    "# total charges needs to be converted from type object to type float.\n",
    "# df.total_charges[:5]"
   ]
  }
 ],
 "metadata": {
  "kernelspec": {
   "display_name": "Python 3",
   "language": "python",
   "name": "python3"
  },
  "language_info": {
   "codemirror_mode": {
    "name": "ipython",
    "version": 3
   },
   "file_extension": ".py",
   "mimetype": "text/x-python",
   "name": "python",
   "nbconvert_exporter": "python",
   "pygments_lexer": "ipython3",
   "version": "3.7.6"
  }
 },
 "nbformat": 4,
 "nbformat_minor": 4
}
