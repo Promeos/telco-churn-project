{
 "cells": [
  {
   "cell_type": "markdown",
   "metadata": {},
   "source": [
    "# Telco Project\n",
    "***\n",
    "### Project Description\n",
    "Accurately predict customer churn using machine learning classification\n",
    "algorithms\n",
    "\n",
    "### Table of Contents:\n",
    "1. [Planning](#Planning)\n",
    "2. [Acquisition](#Acquisition)\n",
    "3. [Preparation](#Preparation)\n",
    "4. [Exploration](#Exploration)\n",
    "5. [Modeling](#Modeling)\n",
    "6. [Delivery](#Delivery)\n",
    "\n",
    "## Planning\n",
    "---\n",
    " - [ ] Goal(s)\n",
    "     - [ ] Find drivers of customer churn\n",
    "     - [ ] Accurately predict customer churn at Telco.\n",
    " - [ ] Measure(s) of success\n",
    "     - [ ] Hypothesis testing\n",
    "     - [ ] Baseline accuracy\n",
    "     - [ ] 3 classification models\n",
    "         - [ ] Model performance: train, validate, test\n",
    "         - [ ] Hyperparameter tuning\n",
    " - [ ] Plan to achieve 1 & 2\n",
    " - [ ] Develop hypotheses\n",
    "     - [ ] Brainstorm questions\n",
    " \n",
    "Brainstorming questions to form hypothesis:\n",
    "Do customer's of a certain demographic churn more than the rest?\n",
    "Does service package influence churn?\n",
    "Does having add-on services influence whether a customer churns?\n",
    "Does the payment method influence whether customers churn?\n"
   ]
  },
  {
   "cell_type": "markdown",
   "metadata": {},
   "source": [
    "## Acquisition\n",
    "--------------\n",
    "- [ ] Instructions to acquire data\n",
    "- [x] Upload `.csv` file to repository - file named `telecom_data.csv`\n",
    "- [ ] acquire.py file\n",
    "    1. [x] Write functions to acquire telco dataset\n",
    "    2. [ ] Write docstring for each function"
   ]
  },
  {
   "cell_type": "code",
   "execution_count": 1,
   "metadata": {},
   "outputs": [],
   "source": [
    "import warnings\n",
    "import numpy as np\n",
    "import pandas as pd\n",
    "import matplotlib.pyplot as plt\n",
    "import seaborn as sns\n",
    "\n",
    "from acquire import get_telco_data\n",
    "from prepare import telco_data_prep, preprocessed_data, data_target_splitter\n",
    "from sklearn.model_selection import train_test_split\n",
    "warnings.filterwarnings('ignore')"
   ]
  },
  {
   "cell_type": "code",
   "execution_count": 2,
   "metadata": {},
   "outputs": [],
   "source": [
    "# df_telco.nunique()"
   ]
  },
  {
   "cell_type": "code",
   "execution_count": 3,
   "metadata": {},
   "outputs": [],
   "source": [
    "# object_columns = df_telco.nunique()[df_telco.nunique() <= 4]"
   ]
  },
  {
   "cell_type": "code",
   "execution_count": 4,
   "metadata": {},
   "outputs": [],
   "source": [
    "# object_columns = object_columns.index.to_list()"
   ]
  },
  {
   "cell_type": "code",
   "execution_count": 5,
   "metadata": {},
   "outputs": [],
   "source": [
    "# for column in object_columns:\n",
    "#     print(df_telco[column].value_counts().sort_index())\n",
    "#     print('')"
   ]
  },
  {
   "cell_type": "code",
   "execution_count": 6,
   "metadata": {},
   "outputs": [],
   "source": [
    "# sns.distplot(df_telco.tenure);"
   ]
  },
  {
   "cell_type": "code",
   "execution_count": 7,
   "metadata": {},
   "outputs": [],
   "source": [
    "# sns.distplot(df_telco.monthly_charges);"
   ]
  },
  {
   "cell_type": "markdown",
   "metadata": {},
   "source": [
    "## Preparation and Processing\n",
    "---\n",
    "- [ ] Document Process"
   ]
  },
  {
   "cell_type": "code",
   "execution_count": null,
   "metadata": {},
   "outputs": [],
   "source": []
  },
  {
   "cell_type": "markdown",
   "metadata": {},
   "source": [
    "## Exploration\n",
    "---\n",
    "- [ ] Statistical Analysis\n",
    "    - [ ] Restate hypothesis here\n",
    "    - [ ] Test hypotheses\n",
    "    - [ ] Plot distributions\n",
    "- [ ] Create visuals\n",
    "- [ ] Present and summarize key findings\n",
    "\n",
    "Hypotheses\n"
   ]
  },
  {
   "cell_type": "code",
   "execution_count": 39,
   "metadata": {},
   "outputs": [],
   "source": [
    "train, validate, test = preprocessed_data()"
   ]
  },
  {
   "cell_type": "code",
   "execution_count": 42,
   "metadata": {},
   "outputs": [],
   "source": [
    "df_numeric_attributes = train.select_dtypes(exclude='uint8')\n",
    "df_categorical_attributes = train.select_dtypes(exclude=['float64', 'int64'])\n",
    "\n",
    "numeric_columns = df_numeric_attributes.columns.to_list().remove('churn')\n",
    "categorical_columns = df_categorical_attributes.columns.to_list()"
   ]
  },
  {
   "cell_type": "code",
   "execution_count": null,
   "metadata": {},
   "outputs": [],
   "source": [
    "sns.pairplot(train,\n",
    "             x_vars = numeric_columns,\n",
    "             y_vars = numeric_columns,\n",
    "             hue = 'churn');"
   ]
  },
  {
   "cell_type": "code",
   "execution_count": 13,
   "metadata": {},
   "outputs": [
    {
     "data": {
      "text/plain": [
       "Index(['gender_Male', 'partner_Yes', 'dependents_Yes', 'phone_service_Yes',\n",
       "       'multiple_lines_No phone service', 'multiple_lines_Yes',\n",
       "       'online_security_No internet service', 'online_security_Yes',\n",
       "       'online_backup_No internet service', 'online_backup_Yes',\n",
       "       'device_protection_No internet service', 'device_protection_Yes',\n",
       "       'tech_support_No internet service', 'tech_support_Yes',\n",
       "       'streaming_tv_No internet service', 'streaming_tv_Yes',\n",
       "       'streaming_movies_No internet service', 'streaming_movies_Yes',\n",
       "       'paperless_billing_Yes', 'internet_service_type_Fiber optic',\n",
       "       'internet_service_type_None', 'contract_type_One year',\n",
       "       'contract_type_Two year', 'payment_type_Credit card (automatic)',\n",
       "       'payment_type_Electronic check', 'payment_type_Mailed check'],\n",
       "      dtype='object')"
      ]
     },
     "execution_count": 13,
     "metadata": {},
     "output_type": "execute_result"
    }
   ],
   "source": [
    "sns.boxenpot(train.)"
   ]
  },
  {
   "cell_type": "markdown",
   "metadata": {},
   "source": [
    "## Modeling\n",
    "---\n",
    "- [ ] sklearn.domymathhomework.classification_models\n",
    "    - [ ] Create 3 classification models"
   ]
  },
  {
   "cell_type": "code",
   "execution_count": null,
   "metadata": {},
   "outputs": [],
   "source": []
  },
  {
   "cell_type": "markdown",
   "metadata": {},
   "source": [
    "## Delivery\n",
    "---\n",
    "\n",
    "- [ ] Summarize/Recap key findings\n",
    "    - [ ] Drivers"
   ]
  },
  {
   "cell_type": "code",
   "execution_count": null,
   "metadata": {},
   "outputs": [],
   "source": []
  },
  {
   "cell_type": "markdown",
   "metadata": {},
   "source": [
    "[Return to the top](#Telco-Project)"
   ]
  }
 ],
 "metadata": {
  "kernelspec": {
   "display_name": "Python 3",
   "language": "python",
   "name": "python3"
  },
  "language_info": {
   "codemirror_mode": {
    "name": "ipython",
    "version": 3
   },
   "file_extension": ".py",
   "mimetype": "text/x-python",
   "name": "python",
   "nbconvert_exporter": "python",
   "pygments_lexer": "ipython3",
   "version": "3.7.6"
  }
 },
 "nbformat": 4,
 "nbformat_minor": 4
}
