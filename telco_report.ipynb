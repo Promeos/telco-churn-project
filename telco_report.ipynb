{
 "cells": [
  {
   "cell_type": "markdown",
   "metadata": {},
   "source": [
    "# Telco™ Project\n",
    "#### Christopher Ortiz, Junior Data Scientist\n",
    "***\n",
    "## Summary\n",
    "_In Progress_\n",
    "\n",
    "\n",
    "\n",
    "### Contents\n",
    "1. [Planning](#Planning)\n",
    "2. [Acquisition](#Acquisition)\n",
    "3. [Preparation](#Preparation)\n",
    "4. [Exploration](#Exploration)\n",
    "5. [Modeling](#Modeling)\n",
    "6. [Evaluation](#Evaluation)\n",
    "7. [Conclusion](#Conclusion)\n",
    "\n",
    "# Planning\n",
    "---\n",
    "### Goals\n",
    "1. Find drivers of customer churn\n",
    "2. Accurately predict customer churn at Telco™\n",
    "\n",
    "### Measures of success\n",
    "1. Find 2 or more drivers of churn using statistical tests\n",
    "2. Establish baseline accuracy\n",
    "3. Outperform baseline accuracy using a classification model\n",
    "4. Document insights from each stage of the data science pipeline"
   ]
  },
  {
   "cell_type": "code",
   "execution_count": 18,
   "metadata": {},
   "outputs": [],
   "source": [
    "# import libraries\n",
    "import warnings\n",
    "import numpy as np\n",
    "import pandas as pd\n",
    "import matplotlib.pyplot as plt\n",
    "import seaborn as sns\n",
    "\n",
    "# import supporting functions to acquire, prep, and split data\n",
    "from acquire import get_telco_data\n",
    "from prepare import telco_data_prep, preprocessed_data, data_target_split\n",
    "\n",
    "# Initialize to ignore warnings\n",
    "warnings.filterwarnings('ignore')\n",
    "\n",
    "# Set defaults for visuals\n",
    "plt.rc('figure', figsize=(16,9))\n",
    "plt.rc('axes.spines', top=False, right=False)\n",
    "plt.rc('patch', ec='black', force_edgecolor=True)\n",
    "plt.rc('font', size=20)\n",
    "sns.set(rc={'figure.figsize': (16,9)})"
   ]
  },
  {
   "cell_type": "markdown",
   "metadata": {},
   "source": [
    "# Acquisition\n",
    "---\n",
    "### Summary\n",
    "_In Progress_\n",
    "\n",
    "\n",
    "<div class=\"alert alert-block alert-warning\">\n",
    "Data Cleaning Notes\n",
    "    \n",
    "---\n",
    "    \n",
    "1. Remove duplicate attributes\n",
    "2. Change total_charges dtype from str -> float\n",
    "\n",
    "<br>\n",
    "    \n",
    "Data Preparation Notes\n",
    "    \n",
    "---\n",
    "1. Create encoded columns for categorical variables\n",
    "2. Combine subgroups of data into a single column\n",
    "3. Keep duplicate columns for data visualization, drop in modeling\n",
    "</div>\n",
    "\n",
    "\n",
    "To begin, we'll need to acquire our data and load it in a jupyter notebook."
   ]
  },
  {
   "cell_type": "code",
   "execution_count": 7,
   "metadata": {},
   "outputs": [],
   "source": [
    "# Load the telco data using function stored in acquire.py\n",
    "df_telco = get_telco_data()"
   ]
  },
  {
   "cell_type": "markdown",
   "metadata": {},
   "source": [
    "Once the data is loaded, we need to understand the context of our data. Here are few things we need to look to have a successful mvp.\n",
    "\n",
    "1. Shape\n",
    "1. Values\n",
    "1. Summary Statistics\n",
    "\n",
    "Being thorough during this process will reveal nearly everything we need to do in data prep.\n",
    "\n",
    "#### Shape\n",
    "We look at the shape of the data to understand:\n",
    "1. How many rows/observations/records are in the dataset. The length of the data.\n",
    "1. How many columns/features/attributes each observation has. The width of the data."
   ]
  },
  {
   "cell_type": "code",
   "execution_count": 24,
   "metadata": {},
   "outputs": [
    {
     "name": "stdout",
     "output_type": "stream",
     "text": [
      "7043 rows, 24 columns\n"
     ]
    }
   ],
   "source": [
    "# Lets take a look at the shape of the data\n",
    "print(f\"{df_telco.shape[0]} rows, {df_telco.shape[1]} columns\")"
   ]
  },
  {
   "cell_type": "code",
   "execution_count": 25,
   "metadata": {},
   "outputs": [
    {
     "data": {
      "text/html": [
       "<div>\n",
       "<style scoped>\n",
       "    .dataframe tbody tr th:only-of-type {\n",
       "        vertical-align: middle;\n",
       "    }\n",
       "\n",
       "    .dataframe tbody tr th {\n",
       "        vertical-align: top;\n",
       "    }\n",
       "\n",
       "    .dataframe thead th {\n",
       "        text-align: right;\n",
       "    }\n",
       "</style>\n",
       "<table border=\"1\" class=\"dataframe\">\n",
       "  <thead>\n",
       "    <tr style=\"text-align: right;\">\n",
       "      <th></th>\n",
       "      <th>payment_type_id</th>\n",
       "      <th>contract_type_id</th>\n",
       "      <th>internet_service_type_id</th>\n",
       "      <th>customer_id</th>\n",
       "      <th>gender</th>\n",
       "      <th>senior_citizen</th>\n",
       "      <th>partner</th>\n",
       "      <th>dependents</th>\n",
       "      <th>tenure</th>\n",
       "      <th>phone_service</th>\n",
       "      <th>...</th>\n",
       "      <th>tech_support</th>\n",
       "      <th>streaming_tv</th>\n",
       "      <th>streaming_movies</th>\n",
       "      <th>paperless_billing</th>\n",
       "      <th>monthly_charges</th>\n",
       "      <th>total_charges</th>\n",
       "      <th>churn</th>\n",
       "      <th>internet_service_type</th>\n",
       "      <th>contract_type</th>\n",
       "      <th>payment_type</th>\n",
       "    </tr>\n",
       "  </thead>\n",
       "  <tbody>\n",
       "    <tr>\n",
       "      <th>0</th>\n",
       "      <td>2</td>\n",
       "      <td>1</td>\n",
       "      <td>1</td>\n",
       "      <td>0003-MKNFE</td>\n",
       "      <td>Male</td>\n",
       "      <td>0</td>\n",
       "      <td>No</td>\n",
       "      <td>No</td>\n",
       "      <td>9</td>\n",
       "      <td>Yes</td>\n",
       "      <td>...</td>\n",
       "      <td>No</td>\n",
       "      <td>No</td>\n",
       "      <td>Yes</td>\n",
       "      <td>No</td>\n",
       "      <td>59.9</td>\n",
       "      <td>542.4</td>\n",
       "      <td>No</td>\n",
       "      <td>DSL</td>\n",
       "      <td>Month-to-month</td>\n",
       "      <td>Mailed check</td>\n",
       "    </tr>\n",
       "    <tr>\n",
       "      <th>1</th>\n",
       "      <td>4</td>\n",
       "      <td>1</td>\n",
       "      <td>1</td>\n",
       "      <td>0013-MHZWF</td>\n",
       "      <td>Female</td>\n",
       "      <td>0</td>\n",
       "      <td>No</td>\n",
       "      <td>Yes</td>\n",
       "      <td>9</td>\n",
       "      <td>Yes</td>\n",
       "      <td>...</td>\n",
       "      <td>Yes</td>\n",
       "      <td>Yes</td>\n",
       "      <td>Yes</td>\n",
       "      <td>Yes</td>\n",
       "      <td>69.4</td>\n",
       "      <td>571.45</td>\n",
       "      <td>No</td>\n",
       "      <td>DSL</td>\n",
       "      <td>Month-to-month</td>\n",
       "      <td>Credit card (automatic)</td>\n",
       "    </tr>\n",
       "    <tr>\n",
       "      <th>2</th>\n",
       "      <td>1</td>\n",
       "      <td>1</td>\n",
       "      <td>1</td>\n",
       "      <td>0015-UOCOJ</td>\n",
       "      <td>Female</td>\n",
       "      <td>1</td>\n",
       "      <td>No</td>\n",
       "      <td>No</td>\n",
       "      <td>7</td>\n",
       "      <td>Yes</td>\n",
       "      <td>...</td>\n",
       "      <td>No</td>\n",
       "      <td>No</td>\n",
       "      <td>No</td>\n",
       "      <td>Yes</td>\n",
       "      <td>48.2</td>\n",
       "      <td>340.35</td>\n",
       "      <td>No</td>\n",
       "      <td>DSL</td>\n",
       "      <td>Month-to-month</td>\n",
       "      <td>Electronic check</td>\n",
       "    </tr>\n",
       "    <tr>\n",
       "      <th>3</th>\n",
       "      <td>1</td>\n",
       "      <td>1</td>\n",
       "      <td>1</td>\n",
       "      <td>0023-HGHWL</td>\n",
       "      <td>Male</td>\n",
       "      <td>1</td>\n",
       "      <td>No</td>\n",
       "      <td>No</td>\n",
       "      <td>1</td>\n",
       "      <td>No</td>\n",
       "      <td>...</td>\n",
       "      <td>No</td>\n",
       "      <td>No</td>\n",
       "      <td>No</td>\n",
       "      <td>Yes</td>\n",
       "      <td>25.1</td>\n",
       "      <td>25.1</td>\n",
       "      <td>Yes</td>\n",
       "      <td>DSL</td>\n",
       "      <td>Month-to-month</td>\n",
       "      <td>Electronic check</td>\n",
       "    </tr>\n",
       "    <tr>\n",
       "      <th>4</th>\n",
       "      <td>3</td>\n",
       "      <td>1</td>\n",
       "      <td>1</td>\n",
       "      <td>0032-PGELS</td>\n",
       "      <td>Female</td>\n",
       "      <td>0</td>\n",
       "      <td>Yes</td>\n",
       "      <td>Yes</td>\n",
       "      <td>1</td>\n",
       "      <td>No</td>\n",
       "      <td>...</td>\n",
       "      <td>No</td>\n",
       "      <td>No</td>\n",
       "      <td>No</td>\n",
       "      <td>No</td>\n",
       "      <td>30.5</td>\n",
       "      <td>30.5</td>\n",
       "      <td>Yes</td>\n",
       "      <td>DSL</td>\n",
       "      <td>Month-to-month</td>\n",
       "      <td>Bank transfer (automatic)</td>\n",
       "    </tr>\n",
       "  </tbody>\n",
       "</table>\n",
       "<p>5 rows × 24 columns</p>\n",
       "</div>"
      ],
      "text/plain": [
       "   payment_type_id  contract_type_id  internet_service_type_id customer_id  \\\n",
       "0                2                 1                         1  0003-MKNFE   \n",
       "1                4                 1                         1  0013-MHZWF   \n",
       "2                1                 1                         1  0015-UOCOJ   \n",
       "3                1                 1                         1  0023-HGHWL   \n",
       "4                3                 1                         1  0032-PGELS   \n",
       "\n",
       "   gender  senior_citizen partner dependents  tenure phone_service  ...  \\\n",
       "0    Male               0      No         No       9           Yes  ...   \n",
       "1  Female               0      No        Yes       9           Yes  ...   \n",
       "2  Female               1      No         No       7           Yes  ...   \n",
       "3    Male               1      No         No       1            No  ...   \n",
       "4  Female               0     Yes        Yes       1            No  ...   \n",
       "\n",
       "  tech_support streaming_tv streaming_movies paperless_billing  \\\n",
       "0           No           No              Yes                No   \n",
       "1          Yes          Yes              Yes               Yes   \n",
       "2           No           No               No               Yes   \n",
       "3           No           No               No               Yes   \n",
       "4           No           No               No                No   \n",
       "\n",
       "  monthly_charges total_charges churn internet_service_type   contract_type  \\\n",
       "0            59.9         542.4    No                   DSL  Month-to-month   \n",
       "1            69.4        571.45    No                   DSL  Month-to-month   \n",
       "2            48.2        340.35    No                   DSL  Month-to-month   \n",
       "3            25.1          25.1   Yes                   DSL  Month-to-month   \n",
       "4            30.5          30.5   Yes                   DSL  Month-to-month   \n",
       "\n",
       "                payment_type  \n",
       "0               Mailed check  \n",
       "1    Credit card (automatic)  \n",
       "2           Electronic check  \n",
       "3           Electronic check  \n",
       "4  Bank transfer (automatic)  \n",
       "\n",
       "[5 rows x 24 columns]"
      ]
     },
     "execution_count": 25,
     "metadata": {},
     "output_type": "execute_result"
    }
   ],
   "source": [
    "df_telco.head()"
   ]
  },
  {
   "cell_type": "markdown",
   "metadata": {},
   "source": [
    "Using `.head()` we can see that some of our columns have redundant attributes and categorical atrributes. We to drop the redundant columns and create encoded columns for the categorical columns.\n",
    "\n",
    "Also, some columns refer to a subgroup of data:\n",
    "\n",
    "- Demographics data: partner, dependents\n",
    "- Steaming Services data: tv, movies\n",
    "\n",
    "If we can represent these attributes with a single column, we'll reduce the dimensions/complexity of our dataset.\n",
    "\n",
    "__Values__\n",
    "\n",
    "Looking at the values of our helps us determine which columns need to be cast for data exploration.\n",
    "Let's take a look at the dtypes of each column."
   ]
  },
  {
   "cell_type": "code",
   "execution_count": 26,
   "metadata": {},
   "outputs": [
    {
     "name": "stdout",
     "output_type": "stream",
     "text": [
      "<class 'pandas.core.frame.DataFrame'>\n",
      "RangeIndex: 7043 entries, 0 to 7042\n",
      "Data columns (total 24 columns):\n",
      " #   Column                    Non-Null Count  Dtype  \n",
      "---  ------                    --------------  -----  \n",
      " 0   payment_type_id           7043 non-null   int64  \n",
      " 1   contract_type_id          7043 non-null   int64  \n",
      " 2   internet_service_type_id  7043 non-null   int64  \n",
      " 3   customer_id               7043 non-null   object \n",
      " 4   gender                    7043 non-null   object \n",
      " 5   senior_citizen            7043 non-null   int64  \n",
      " 6   partner                   7043 non-null   object \n",
      " 7   dependents                7043 non-null   object \n",
      " 8   tenure                    7043 non-null   int64  \n",
      " 9   phone_service             7043 non-null   object \n",
      " 10  multiple_lines            7043 non-null   object \n",
      " 11  online_security           7043 non-null   object \n",
      " 12  online_backup             7043 non-null   object \n",
      " 13  device_protection         7043 non-null   object \n",
      " 14  tech_support              7043 non-null   object \n",
      " 15  streaming_tv              7043 non-null   object \n",
      " 16  streaming_movies          7043 non-null   object \n",
      " 17  paperless_billing         7043 non-null   object \n",
      " 18  monthly_charges           7043 non-null   float64\n",
      " 19  total_charges             7043 non-null   object \n",
      " 20  churn                     7043 non-null   object \n",
      " 21  internet_service_type     7043 non-null   object \n",
      " 22  contract_type             7043 non-null   object \n",
      " 23  payment_type              7043 non-null   object \n",
      "dtypes: float64(1), int64(5), object(18)\n",
      "memory usage: 1.3+ MB\n"
     ]
    }
   ],
   "source": [
    "# This is a powerful function that tells us if there are any nulls, column dtypes.\n",
    "df_telco.info()"
   ]
  },
  {
   "cell_type": "markdown",
   "metadata": {},
   "source": [
    "Wow, almost all of the columns have an `object` dtype. Lets use `.nunique()` to find out the number of unique values in each column."
   ]
  },
  {
   "cell_type": "code",
   "execution_count": 11,
   "metadata": {},
   "outputs": [
    {
     "data": {
      "text/plain": [
       "payment_type_id                4\n",
       "contract_type_id               3\n",
       "internet_service_type_id       3\n",
       "customer_id                 7043\n",
       "gender                         2\n",
       "senior_citizen                 2\n",
       "partner                        2\n",
       "dependents                     2\n",
       "tenure                        73\n",
       "phone_service                  2\n",
       "multiple_lines                 3\n",
       "online_security                3\n",
       "online_backup                  3\n",
       "device_protection              3\n",
       "tech_support                   3\n",
       "streaming_tv                   3\n",
       "streaming_movies               3\n",
       "paperless_billing              2\n",
       "monthly_charges             1585\n",
       "total_charges               6531\n",
       "churn                          2\n",
       "internet_service_type          3\n",
       "contract_type                  3\n",
       "payment_type                   4\n",
       "dtype: int64"
      ]
     },
     "execution_count": 11,
     "metadata": {},
     "output_type": "execute_result"
    }
   ],
   "source": [
    "df_telco.nunique()"
   ]
  },
  {
   "cell_type": "code",
   "execution_count": 8,
   "metadata": {},
   "outputs": [],
   "source": [
    "# I create a custom filter for columns with 3 or 4 unique values. Columns with\n",
    "# 2 unique values can be represented using binary values.\n",
    "object_columns = df_telco.nunique()[(df_telco.nunique() <= 4) & (df_telco.nunique() > 2)]\n",
    "\n",
    "# Store the names of columns with 3 or 4 unique values.\n",
    "object_columns = object_columns.index.to_list()"
   ]
  },
  {
   "cell_type": "code",
   "execution_count": 9,
   "metadata": {},
   "outputs": [
    {
     "name": "stdout",
     "output_type": "stream",
     "text": [
      "1    2365\n",
      "2    1612\n",
      "3    1544\n",
      "4    1522\n",
      "Name: payment_type_id, dtype: int64\n",
      "\n",
      "1    3875\n",
      "2    1473\n",
      "3    1695\n",
      "Name: contract_type_id, dtype: int64\n",
      "\n",
      "1    2421\n",
      "2    3096\n",
      "3    1526\n",
      "Name: internet_service_type_id, dtype: int64\n",
      "\n",
      "No                  3390\n",
      "No phone service     682\n",
      "Yes                 2971\n",
      "Name: multiple_lines, dtype: int64\n",
      "\n",
      "No                     3498\n",
      "No internet service    1526\n",
      "Yes                    2019\n",
      "Name: online_security, dtype: int64\n",
      "\n",
      "No                     3088\n",
      "No internet service    1526\n",
      "Yes                    2429\n",
      "Name: online_backup, dtype: int64\n",
      "\n",
      "No                     3095\n",
      "No internet service    1526\n",
      "Yes                    2422\n",
      "Name: device_protection, dtype: int64\n",
      "\n",
      "No                     3473\n",
      "No internet service    1526\n",
      "Yes                    2044\n",
      "Name: tech_support, dtype: int64\n",
      "\n",
      "No                     2810\n",
      "No internet service    1526\n",
      "Yes                    2707\n",
      "Name: streaming_tv, dtype: int64\n",
      "\n",
      "No                     2785\n",
      "No internet service    1526\n",
      "Yes                    2732\n",
      "Name: streaming_movies, dtype: int64\n",
      "\n",
      "DSL            2421\n",
      "Fiber optic    3096\n",
      "None           1526\n",
      "Name: internet_service_type, dtype: int64\n",
      "\n",
      "Month-to-month    3875\n",
      "One year          1473\n",
      "Two year          1695\n",
      "Name: contract_type, dtype: int64\n",
      "\n",
      "Bank transfer (automatic)    1544\n",
      "Credit card (automatic)      1522\n",
      "Electronic check             2365\n",
      "Mailed check                 1612\n",
      "Name: payment_type, dtype: int64\n",
      "\n"
     ]
    }
   ],
   "source": [
    "# Iterate over the list to see the unique values in these columns\n",
    "for column in object_columns:\n",
    "    print(df_telco[column].value_counts().sort_index())\n",
    "    print('')"
   ]
  },
  {
   "cell_type": "markdown",
   "metadata": {},
   "source": [
    "This is the gold we were looking for:\n",
    "1. Duplicate columns\n",
    "- payment_type, contract_type, and internet_service type have a corresponding __id__ column. We can use the object columns for data visualization and drop them once we're ready to model our data.\n",
    "2. Feature Engineering\n",
    "- streaming_movies/tv, online_security/backup, device_protection, and tech_support are what is known as __add-on products and services__. We can combine them into one or more columns.\n",
    "\n",
    "__Summary Statistics__\n",
    "\n",
    "Using `.describe()` we'll take a look at our summary statistics. Take special note of the column names."
   ]
  },
  {
   "cell_type": "code",
   "execution_count": 9,
   "metadata": {},
   "outputs": [
    {
     "data": {
      "text/html": [
       "<div>\n",
       "<style scoped>\n",
       "    .dataframe tbody tr th:only-of-type {\n",
       "        vertical-align: middle;\n",
       "    }\n",
       "\n",
       "    .dataframe tbody tr th {\n",
       "        vertical-align: top;\n",
       "    }\n",
       "\n",
       "    .dataframe thead th {\n",
       "        text-align: right;\n",
       "    }\n",
       "</style>\n",
       "<table border=\"1\" class=\"dataframe\">\n",
       "  <thead>\n",
       "    <tr style=\"text-align: right;\">\n",
       "      <th></th>\n",
       "      <th>payment_type_id</th>\n",
       "      <th>contract_type_id</th>\n",
       "      <th>internet_service_type_id</th>\n",
       "      <th>senior_citizen</th>\n",
       "      <th>tenure</th>\n",
       "      <th>monthly_charges</th>\n",
       "    </tr>\n",
       "  </thead>\n",
       "  <tbody>\n",
       "    <tr>\n",
       "      <th>count</th>\n",
       "      <td>7043.000000</td>\n",
       "      <td>7043.000000</td>\n",
       "      <td>7043.000000</td>\n",
       "      <td>7043.000000</td>\n",
       "      <td>7043.000000</td>\n",
       "      <td>7043.000000</td>\n",
       "    </tr>\n",
       "    <tr>\n",
       "      <th>mean</th>\n",
       "      <td>2.315633</td>\n",
       "      <td>1.690473</td>\n",
       "      <td>1.872923</td>\n",
       "      <td>0.162147</td>\n",
       "      <td>32.371149</td>\n",
       "      <td>64.761692</td>\n",
       "    </tr>\n",
       "    <tr>\n",
       "      <th>std</th>\n",
       "      <td>1.148907</td>\n",
       "      <td>0.833755</td>\n",
       "      <td>0.737796</td>\n",
       "      <td>0.368612</td>\n",
       "      <td>24.559481</td>\n",
       "      <td>30.090047</td>\n",
       "    </tr>\n",
       "    <tr>\n",
       "      <th>min</th>\n",
       "      <td>1.000000</td>\n",
       "      <td>1.000000</td>\n",
       "      <td>1.000000</td>\n",
       "      <td>0.000000</td>\n",
       "      <td>0.000000</td>\n",
       "      <td>18.250000</td>\n",
       "    </tr>\n",
       "    <tr>\n",
       "      <th>25%</th>\n",
       "      <td>1.000000</td>\n",
       "      <td>1.000000</td>\n",
       "      <td>1.000000</td>\n",
       "      <td>0.000000</td>\n",
       "      <td>9.000000</td>\n",
       "      <td>35.500000</td>\n",
       "    </tr>\n",
       "    <tr>\n",
       "      <th>50%</th>\n",
       "      <td>2.000000</td>\n",
       "      <td>1.000000</td>\n",
       "      <td>2.000000</td>\n",
       "      <td>0.000000</td>\n",
       "      <td>29.000000</td>\n",
       "      <td>70.350000</td>\n",
       "    </tr>\n",
       "    <tr>\n",
       "      <th>75%</th>\n",
       "      <td>3.000000</td>\n",
       "      <td>2.000000</td>\n",
       "      <td>2.000000</td>\n",
       "      <td>0.000000</td>\n",
       "      <td>55.000000</td>\n",
       "      <td>89.850000</td>\n",
       "    </tr>\n",
       "    <tr>\n",
       "      <th>max</th>\n",
       "      <td>4.000000</td>\n",
       "      <td>3.000000</td>\n",
       "      <td>3.000000</td>\n",
       "      <td>1.000000</td>\n",
       "      <td>72.000000</td>\n",
       "      <td>118.750000</td>\n",
       "    </tr>\n",
       "  </tbody>\n",
       "</table>\n",
       "</div>"
      ],
      "text/plain": [
       "       payment_type_id  contract_type_id  internet_service_type_id  \\\n",
       "count      7043.000000       7043.000000               7043.000000   \n",
       "mean          2.315633          1.690473                  1.872923   \n",
       "std           1.148907          0.833755                  0.737796   \n",
       "min           1.000000          1.000000                  1.000000   \n",
       "25%           1.000000          1.000000                  1.000000   \n",
       "50%           2.000000          1.000000                  2.000000   \n",
       "75%           3.000000          2.000000                  2.000000   \n",
       "max           4.000000          3.000000                  3.000000   \n",
       "\n",
       "       senior_citizen       tenure  monthly_charges  \n",
       "count     7043.000000  7043.000000      7043.000000  \n",
       "mean         0.162147    32.371149        64.761692  \n",
       "std          0.368612    24.559481        30.090047  \n",
       "min          0.000000     0.000000        18.250000  \n",
       "25%          0.000000     9.000000        35.500000  \n",
       "50%          0.000000    29.000000        70.350000  \n",
       "75%          0.000000    55.000000        89.850000  \n",
       "max          1.000000    72.000000       118.750000  "
      ]
     },
     "execution_count": 9,
     "metadata": {},
     "output_type": "execute_result"
    }
   ],
   "source": [
    "df_telco.describe()"
   ]
  },
  {
   "cell_type": "markdown",
   "metadata": {},
   "source": [
    "Notice that `total_charges` is not in the table. It's an `object` dtype. We'll need to cast it from str to float."
   ]
  },
  {
   "cell_type": "code",
   "execution_count": 10,
   "metadata": {},
   "outputs": [
    {
     "data": {
      "image/png": "[encoded data removed]",
      "text/plain": [
       "<Figure size 1152x648 with 1 Axes>"
      ]
     },
     "metadata": {},
     "output_type": "display_data"
    }
   ],
   "source": [
    "# Distribution of Tenure\n",
    "sns.histplot(df_telco,\n",
    "             x=df_telco.tenure,\n",
    "             hue='churn',\n",
    "             multiple='stack')\n",
    "\n",
    "plt.title(\"Distribution of Tenure\")\n",
    "plt.xlabel('Tenure (in months)')\n",
    "\n",
    "plt.xlim(0, df_telco.tenure.max());"
   ]
  },
  {
   "cell_type": "code",
   "execution_count": 11,
   "metadata": {},
   "outputs": [
    {
     "data": {
      "image/png": "[encoded data removed]",
      "text/plain": [
       "<Figure size 1152x648 with 1 Axes>"
      ]
     },
     "metadata": {},
     "output_type": "display_data"
    }
   ],
   "source": [
    "# Distribution of Monthly Charges\n",
    "sns.histplot(data=df_telco,\n",
    "            x=df_telco.monthly_charges,\n",
    "            hue=df_telco.churn,\n",
    "            multiple='stack')\n",
    "\n",
    "plt.title(\"Distribution of Monthly Charges\")\n",
    "plt.xlabel('Monthly Charges (in USD)')\n",
    "\n",
    "plt.xlim(df_telco.monthly_charges.min(),\n",
    "         df_telco.monthly_charges.max())\n",
    "\n",
    "plt.xticks(np.linspace(18, 120, 24));"
   ]
  },
  {
   "cell_type": "code",
   "execution_count": 12,
   "metadata": {},
   "outputs": [
    {
     "data": {
      "text/html": [
       "<div>\n",
       "<style scoped>\n",
       "    .dataframe tbody tr th:only-of-type {\n",
       "        vertical-align: middle;\n",
       "    }\n",
       "\n",
       "    .dataframe tbody tr th {\n",
       "        vertical-align: top;\n",
       "    }\n",
       "\n",
       "    .dataframe thead th {\n",
       "        text-align: right;\n",
       "    }\n",
       "</style>\n",
       "<table border=\"1\" class=\"dataframe\">\n",
       "  <thead>\n",
       "    <tr style=\"text-align: right;\">\n",
       "      <th>internet_service_type</th>\n",
       "      <th>DSL</th>\n",
       "      <th>Fiber optic</th>\n",
       "      <th>None</th>\n",
       "    </tr>\n",
       "    <tr>\n",
       "      <th>phone_service</th>\n",
       "      <th></th>\n",
       "      <th></th>\n",
       "      <th></th>\n",
       "    </tr>\n",
       "  </thead>\n",
       "  <tbody>\n",
       "    <tr>\n",
       "      <th>No</th>\n",
       "      <td>682</td>\n",
       "      <td>0</td>\n",
       "      <td>0</td>\n",
       "    </tr>\n",
       "    <tr>\n",
       "      <th>Yes</th>\n",
       "      <td>1739</td>\n",
       "      <td>3096</td>\n",
       "      <td>1526</td>\n",
       "    </tr>\n",
       "  </tbody>\n",
       "</table>\n",
       "</div>"
      ],
      "text/plain": [
       "internet_service_type   DSL  Fiber optic  None\n",
       "phone_service                                 \n",
       "No                      682            0     0\n",
       "Yes                    1739         3096  1526"
      ]
     },
     "execution_count": 12,
     "metadata": {},
     "output_type": "execute_result"
    }
   ],
   "source": [
    "# Service Packages\n",
    "pd.crosstab(df_telco.phone_service, df_telco.internet_service_type)"
   ]
  },
  {
   "cell_type": "markdown",
   "metadata": {},
   "source": [
    "### Takeways\n",
    "_In Progress_\n",
    "\n",
    "# Preparation\n",
    "---\n",
    "#### Data Cleaning\n",
    "- No duplicate values\n",
    "- 24 attributes\n",
    "    - Clean `total_charges` column\n",
    "        - Convert dtype from string to float\n",
    "        - Drop customers with 0 `total_charges`. #new_customers\n",
    "    - Convert `churn` column values from \"No\"/\"Yes\" to 0/1\n",
    "    - Rename `tenure` to `tenure_in_months`\n",
    "    \n",
    "\n",
    "#### Data Preparation\n",
    "- Total_charges is a product of monthly_charges and tenure, possibly drop column.\n",
    "- Create encoded attributes"
   ]
  },
  {
   "cell_type": "code",
   "execution_count": 13,
   "metadata": {},
   "outputs": [],
   "source": [
    "df = telco_data_prep()"
   ]
  },
  {
   "cell_type": "code",
   "execution_count": 14,
   "metadata": {},
   "outputs": [
    {
     "name": "stdout",
     "output_type": "stream",
     "text": [
      "<class 'pandas.core.frame.DataFrame'>\n",
      "Int64Index: 7043 entries, 0 to 7042\n",
      "Data columns (total 32 columns):\n",
      " #   Column                                 Non-Null Count  Dtype  \n",
      "---  ------                                 --------------  -----  \n",
      " 0   customer_id                            7043 non-null   object \n",
      " 1   tenure_in_months                       7043 non-null   int64  \n",
      " 2   monthly_charges                        7043 non-null   float64\n",
      " 3   total_charges                          7043 non-null   float64\n",
      " 4   tenure_in_years                        7043 non-null   float64\n",
      " 5   gender_Male                            7043 non-null   uint8  \n",
      " 6   partner_Yes                            7043 non-null   uint8  \n",
      " 7   dependents_Yes                         7043 non-null   uint8  \n",
      " 8   phone_service_Yes                      7043 non-null   uint8  \n",
      " 9   multiple_lines_No phone service        7043 non-null   uint8  \n",
      " 10  multiple_lines_Yes                     7043 non-null   uint8  \n",
      " 11  online_security_No internet service    7043 non-null   uint8  \n",
      " 12  online_security_Yes                    7043 non-null   uint8  \n",
      " 13  online_backup_No internet service      7043 non-null   uint8  \n",
      " 14  online_backup_Yes                      7043 non-null   uint8  \n",
      " 15  device_protection_No internet service  7043 non-null   uint8  \n",
      " 16  device_protection_Yes                  7043 non-null   uint8  \n",
      " 17  tech_support_No internet service       7043 non-null   uint8  \n",
      " 18  tech_support_Yes                       7043 non-null   uint8  \n",
      " 19  streaming_tv_No internet service       7043 non-null   uint8  \n",
      " 20  streaming_tv_Yes                       7043 non-null   uint8  \n",
      " 21  streaming_movies_No internet service   7043 non-null   uint8  \n",
      " 22  streaming_movies_Yes                   7043 non-null   uint8  \n",
      " 23  paperless_billing_Yes                  7043 non-null   uint8  \n",
      " 24  internet_service_type_Fiber optic      7043 non-null   uint8  \n",
      " 25  internet_service_type_None             7043 non-null   uint8  \n",
      " 26  contract_type_One year                 7043 non-null   uint8  \n",
      " 27  contract_type_Two year                 7043 non-null   uint8  \n",
      " 28  payment_type_Credit card (automatic)   7043 non-null   uint8  \n",
      " 29  payment_type_Electronic check          7043 non-null   uint8  \n",
      " 30  payment_type_Mailed check              7043 non-null   uint8  \n",
      " 31  churn                                  7043 non-null   int64  \n",
      "dtypes: float64(3), int64(2), object(1), uint8(26)\n",
      "memory usage: 564.0+ KB\n"
     ]
    }
   ],
   "source": [
    "df.info()"
   ]
  },
  {
   "cell_type": "code",
   "execution_count": 15,
   "metadata": {},
   "outputs": [
    {
     "data": {
      "text/html": [
       "<div>\n",
       "<style scoped>\n",
       "    .dataframe tbody tr th:only-of-type {\n",
       "        vertical-align: middle;\n",
       "    }\n",
       "\n",
       "    .dataframe tbody tr th {\n",
       "        vertical-align: top;\n",
       "    }\n",
       "\n",
       "    .dataframe thead th {\n",
       "        text-align: right;\n",
       "    }\n",
       "</style>\n",
       "<table border=\"1\" class=\"dataframe\">\n",
       "  <thead>\n",
       "    <tr style=\"text-align: right;\">\n",
       "      <th></th>\n",
       "      <th>count</th>\n",
       "      <th>mean</th>\n",
       "      <th>std</th>\n",
       "      <th>min</th>\n",
       "      <th>25%</th>\n",
       "      <th>50%</th>\n",
       "      <th>75%</th>\n",
       "      <th>max</th>\n",
       "    </tr>\n",
       "  </thead>\n",
       "  <tbody>\n",
       "    <tr>\n",
       "      <th>tenure_in_months</th>\n",
       "      <td>7043.0</td>\n",
       "      <td>32.371149</td>\n",
       "      <td>24.559481</td>\n",
       "      <td>0.00</td>\n",
       "      <td>9.00</td>\n",
       "      <td>29.00</td>\n",
       "      <td>55.00</td>\n",
       "      <td>72.00</td>\n",
       "    </tr>\n",
       "    <tr>\n",
       "      <th>monthly_charges</th>\n",
       "      <td>7043.0</td>\n",
       "      <td>64.761692</td>\n",
       "      <td>30.090047</td>\n",
       "      <td>18.25</td>\n",
       "      <td>35.50</td>\n",
       "      <td>70.35</td>\n",
       "      <td>89.85</td>\n",
       "      <td>118.75</td>\n",
       "    </tr>\n",
       "    <tr>\n",
       "      <th>total_charges</th>\n",
       "      <td>7043.0</td>\n",
       "      <td>2279.734304</td>\n",
       "      <td>2266.794470</td>\n",
       "      <td>0.00</td>\n",
       "      <td>398.55</td>\n",
       "      <td>1394.55</td>\n",
       "      <td>3786.60</td>\n",
       "      <td>8684.80</td>\n",
       "    </tr>\n",
       "    <tr>\n",
       "      <th>tenure_in_years</th>\n",
       "      <td>7043.0</td>\n",
       "      <td>2.697402</td>\n",
       "      <td>2.046968</td>\n",
       "      <td>0.00</td>\n",
       "      <td>0.75</td>\n",
       "      <td>2.42</td>\n",
       "      <td>4.58</td>\n",
       "      <td>6.00</td>\n",
       "    </tr>\n",
       "    <tr>\n",
       "      <th>churn</th>\n",
       "      <td>7043.0</td>\n",
       "      <td>0.265370</td>\n",
       "      <td>0.441561</td>\n",
       "      <td>0.00</td>\n",
       "      <td>0.00</td>\n",
       "      <td>0.00</td>\n",
       "      <td>1.00</td>\n",
       "      <td>1.00</td>\n",
       "    </tr>\n",
       "  </tbody>\n",
       "</table>\n",
       "</div>"
      ],
      "text/plain": [
       "                   count         mean          std    min     25%      50%  \\\n",
       "tenure_in_months  7043.0    32.371149    24.559481   0.00    9.00    29.00   \n",
       "monthly_charges   7043.0    64.761692    30.090047  18.25   35.50    70.35   \n",
       "total_charges     7043.0  2279.734304  2266.794470   0.00  398.55  1394.55   \n",
       "tenure_in_years   7043.0     2.697402     2.046968   0.00    0.75     2.42   \n",
       "churn             7043.0     0.265370     0.441561   0.00    0.00     0.00   \n",
       "\n",
       "                      75%      max  \n",
       "tenure_in_months    55.00    72.00  \n",
       "monthly_charges     89.85   118.75  \n",
       "total_charges     3786.60  8684.80  \n",
       "tenure_in_years      4.58     6.00  \n",
       "churn                1.00     1.00  "
      ]
     },
     "execution_count": 15,
     "metadata": {},
     "output_type": "execute_result"
    }
   ],
   "source": [
    "# Scale values in iteration 2\n",
    "df.describe(exclude=['object','uint8']).T"
   ]
  },
  {
   "cell_type": "markdown",
   "metadata": {},
   "source": [
    "## Exploration\n",
    "---\n",
    "1. Statistical Analysis\n",
    "    - Restate hypotheses\n",
    "    - Test hypotheses\n",
    "    \n",
    "2. Create visuals\n",
    "\n",
    "3. Summarize key findings"
   ]
  },
  {
   "cell_type": "code",
   "execution_count": 16,
   "metadata": {},
   "outputs": [],
   "source": [
    "train, validate, test = preprocessed_data()"
   ]
  },
  {
   "cell_type": "code",
   "execution_count": 17,
   "metadata": {},
   "outputs": [],
   "source": [
    "train = train.drop(columns='customer_id')\n",
    "validate = validate.drop(columns='customer_id')\n",
    "test = test.drop(columns='customer_id')"
   ]
  },
  {
   "cell_type": "code",
   "execution_count": 18,
   "metadata": {},
   "outputs": [],
   "source": [
    "X_train, y_train = data_target_split(train)"
   ]
  },
  {
   "cell_type": "code",
   "execution_count": 19,
   "metadata": {},
   "outputs": [
    {
     "data": {
      "text/html": [
       "<div>\n",
       "<style scoped>\n",
       "    .dataframe tbody tr th:only-of-type {\n",
       "        vertical-align: middle;\n",
       "    }\n",
       "\n",
       "    .dataframe tbody tr th {\n",
       "        vertical-align: top;\n",
       "    }\n",
       "\n",
       "    .dataframe thead th {\n",
       "        text-align: right;\n",
       "    }\n",
       "</style>\n",
       "<table border=\"1\" class=\"dataframe\">\n",
       "  <thead>\n",
       "    <tr style=\"text-align: right;\">\n",
       "      <th></th>\n",
       "      <th>tenure_in_months</th>\n",
       "      <th>monthly_charges</th>\n",
       "      <th>total_charges</th>\n",
       "      <th>tenure_in_years</th>\n",
       "      <th>gender_Male</th>\n",
       "      <th>partner_Yes</th>\n",
       "      <th>dependents_Yes</th>\n",
       "      <th>phone_service_Yes</th>\n",
       "      <th>multiple_lines_No phone service</th>\n",
       "      <th>multiple_lines_Yes</th>\n",
       "      <th>...</th>\n",
       "      <th>streaming_movies_No internet service</th>\n",
       "      <th>streaming_movies_Yes</th>\n",
       "      <th>paperless_billing_Yes</th>\n",
       "      <th>internet_service_type_Fiber optic</th>\n",
       "      <th>internet_service_type_None</th>\n",
       "      <th>contract_type_One year</th>\n",
       "      <th>contract_type_Two year</th>\n",
       "      <th>payment_type_Credit card (automatic)</th>\n",
       "      <th>payment_type_Electronic check</th>\n",
       "      <th>payment_type_Mailed check</th>\n",
       "    </tr>\n",
       "  </thead>\n",
       "  <tbody>\n",
       "    <tr>\n",
       "      <th>4221</th>\n",
       "      <td>46</td>\n",
       "      <td>30.75</td>\n",
       "      <td>1489.30</td>\n",
       "      <td>3.83</td>\n",
       "      <td>1</td>\n",
       "      <td>0</td>\n",
       "      <td>0</td>\n",
       "      <td>0</td>\n",
       "      <td>1</td>\n",
       "      <td>0</td>\n",
       "      <td>...</td>\n",
       "      <td>0</td>\n",
       "      <td>0</td>\n",
       "      <td>1</td>\n",
       "      <td>0</td>\n",
       "      <td>0</td>\n",
       "      <td>1</td>\n",
       "      <td>0</td>\n",
       "      <td>0</td>\n",
       "      <td>0</td>\n",
       "      <td>0</td>\n",
       "    </tr>\n",
       "    <tr>\n",
       "      <th>2507</th>\n",
       "      <td>18</td>\n",
       "      <td>85.45</td>\n",
       "      <td>1505.85</td>\n",
       "      <td>1.50</td>\n",
       "      <td>0</td>\n",
       "      <td>0</td>\n",
       "      <td>0</td>\n",
       "      <td>1</td>\n",
       "      <td>0</td>\n",
       "      <td>1</td>\n",
       "      <td>...</td>\n",
       "      <td>0</td>\n",
       "      <td>0</td>\n",
       "      <td>1</td>\n",
       "      <td>1</td>\n",
       "      <td>0</td>\n",
       "      <td>0</td>\n",
       "      <td>0</td>\n",
       "      <td>0</td>\n",
       "      <td>1</td>\n",
       "      <td>0</td>\n",
       "    </tr>\n",
       "    <tr>\n",
       "      <th>1766</th>\n",
       "      <td>15</td>\n",
       "      <td>74.45</td>\n",
       "      <td>1145.70</td>\n",
       "      <td>1.25</td>\n",
       "      <td>0</td>\n",
       "      <td>0</td>\n",
       "      <td>0</td>\n",
       "      <td>1</td>\n",
       "      <td>0</td>\n",
       "      <td>1</td>\n",
       "      <td>...</td>\n",
       "      <td>0</td>\n",
       "      <td>0</td>\n",
       "      <td>1</td>\n",
       "      <td>1</td>\n",
       "      <td>0</td>\n",
       "      <td>0</td>\n",
       "      <td>0</td>\n",
       "      <td>0</td>\n",
       "      <td>0</td>\n",
       "      <td>1</td>\n",
       "    </tr>\n",
       "  </tbody>\n",
       "</table>\n",
       "<p>3 rows × 30 columns</p>\n",
       "</div>"
      ],
      "text/plain": [
       "      tenure_in_months  monthly_charges  total_charges  tenure_in_years  \\\n",
       "4221                46            30.75        1489.30             3.83   \n",
       "2507                18            85.45        1505.85             1.50   \n",
       "1766                15            74.45        1145.70             1.25   \n",
       "\n",
       "      gender_Male  partner_Yes  dependents_Yes  phone_service_Yes  \\\n",
       "4221            1            0               0                  0   \n",
       "2507            0            0               0                  1   \n",
       "1766            0            0               0                  1   \n",
       "\n",
       "      multiple_lines_No phone service  multiple_lines_Yes  ...  \\\n",
       "4221                                1                   0  ...   \n",
       "2507                                0                   1  ...   \n",
       "1766                                0                   1  ...   \n",
       "\n",
       "      streaming_movies_No internet service  streaming_movies_Yes  \\\n",
       "4221                                     0                     0   \n",
       "2507                                     0                     0   \n",
       "1766                                     0                     0   \n",
       "\n",
       "      paperless_billing_Yes  internet_service_type_Fiber optic  \\\n",
       "4221                      1                                  0   \n",
       "2507                      1                                  1   \n",
       "1766                      1                                  1   \n",
       "\n",
       "      internet_service_type_None  contract_type_One year  \\\n",
       "4221                           0                       1   \n",
       "2507                           0                       0   \n",
       "1766                           0                       0   \n",
       "\n",
       "      contract_type_Two year  payment_type_Credit card (automatic)  \\\n",
       "4221                       0                                     0   \n",
       "2507                       0                                     0   \n",
       "1766                       0                                     0   \n",
       "\n",
       "      payment_type_Electronic check  payment_type_Mailed check  \n",
       "4221                              0                          0  \n",
       "2507                              1                          0  \n",
       "1766                              0                          1  \n",
       "\n",
       "[3 rows x 30 columns]"
      ]
     },
     "execution_count": 19,
     "metadata": {},
     "output_type": "execute_result"
    }
   ],
   "source": [
    "X_train.sample(3)"
   ]
  },
  {
   "cell_type": "markdown",
   "metadata": {},
   "source": [
    "### Statistical Analysis\n",
    "---"
   ]
  },
  {
   "cell_type": "code",
   "execution_count": 20,
   "metadata": {},
   "outputs": [],
   "source": [
    "from scipy import stats"
   ]
  },
  {
   "cell_type": "code",
   "execution_count": 15,
   "metadata": {},
   "outputs": [],
   "source": [
    "import sklearn"
   ]
  },
  {
   "cell_type": "code",
   "execution_count": 16,
   "metadata": {},
   "outputs": [
    {
     "data": {
      "text/plain": [
       "'0.22.1'"
      ]
     },
     "execution_count": 16,
     "metadata": {},
     "output_type": "execute_result"
    }
   ],
   "source": [
    "sklearn.__version__"
   ]
  },
  {
   "cell_type": "code",
   "execution_count": 21,
   "metadata": {},
   "outputs": [],
   "source": [
    "confidence_interval = 0.95\n",
    "alpha = 1 - confidence_interval"
   ]
  },
  {
   "cell_type": "markdown",
   "metadata": {},
   "source": [
    "### Hypothesis Tests\n",
    "\n",
    "Does a customer churn independent of whether a customer is a single household or a non-single household.\n",
    "\n",
    "> \\$H_{O}$ Churn is independent of whether a customer is a single household or a non-single household.\n",
    "\n",
    "> \\$H_{a}$ Churn is dependent on whether a customer is a single household or a non-single household."
   ]
  },
  {
   "cell_type": "code",
   "execution_count": 66,
   "metadata": {},
   "outputs": [],
   "source": [
    "singles = np.where((X_train.partner_Yes==0) & (X_train.dependents_Yes==0), 1, 0)"
   ]
  },
  {
   "cell_type": "code",
   "execution_count": 67,
   "metadata": {},
   "outputs": [],
   "source": [
    "outcomes_1 = pd.crosstab(singles, y_train.churn)\n",
    "outcomes_1 = outcomes_1.rename(index={0:'Not Single', 1: 'Single'}, columns={0:'No Churn', 1:'Churn'})"
   ]
  },
  {
   "cell_type": "code",
   "execution_count": 68,
   "metadata": {},
   "outputs": [],
   "source": [
    "outcomes_1.index.name=''\n",
    "outcomes_1.columns.name=''"
   ]
  },
  {
   "cell_type": "code",
   "execution_count": 69,
   "metadata": {},
   "outputs": [
    {
     "data": {
      "text/html": [
       "<div>\n",
       "<style scoped>\n",
       "    .dataframe tbody tr th:only-of-type {\n",
       "        vertical-align: middle;\n",
       "    }\n",
       "\n",
       "    .dataframe tbody tr th {\n",
       "        vertical-align: top;\n",
       "    }\n",
       "\n",
       "    .dataframe thead th {\n",
       "        text-align: right;\n",
       "    }\n",
       "</style>\n",
       "<table border=\"1\" class=\"dataframe\">\n",
       "  <thead>\n",
       "    <tr style=\"text-align: right;\">\n",
       "      <th></th>\n",
       "      <th>No Churn</th>\n",
       "      <th>Churn</th>\n",
       "    </tr>\n",
       "    <tr>\n",
       "      <th></th>\n",
       "      <th></th>\n",
       "      <th></th>\n",
       "    </tr>\n",
       "  </thead>\n",
       "  <tbody>\n",
       "    <tr>\n",
       "      <th>Not Single</th>\n",
       "      <td>1650</td>\n",
       "      <td>421</td>\n",
       "    </tr>\n",
       "    <tr>\n",
       "      <th>Single</th>\n",
       "      <td>1247</td>\n",
       "      <td>625</td>\n",
       "    </tr>\n",
       "  </tbody>\n",
       "</table>\n",
       "</div>"
      ],
      "text/plain": [
       "            No Churn  Churn\n",
       "                           \n",
       "Not Single      1650    421\n",
       "Single          1247    625"
      ]
     },
     "execution_count": 69,
     "metadata": {},
     "output_type": "execute_result"
    }
   ],
   "source": [
    "outcomes_1"
   ]
  },
  {
   "cell_type": "code",
   "execution_count": 70,
   "metadata": {},
   "outputs": [
    {
     "name": "stdout",
     "output_type": "stream",
     "text": [
      "Chi2: 85.35\n",
      "P-Value: 0.00\n",
      "alpha: 0.05\n",
      "\n",
      "P-Value is less than alpha:\n",
      "Reject HO (for Ha). Churn is dependent on whether a customer is a single household or a non-single household.\n"
     ]
    }
   ],
   "source": [
    "chi2, p, degf, expected = stats.chi2_contingency(outcomes_1)\n",
    "\n",
    "print((\"Chi2: {:.2f}\" \\\n",
    "      \"\\nP-Value: {:.2f}\\nalpha: {:.2f}\\n\").format(chi2, p, alpha))\n",
    "\n",
    "if p < alpha:\n",
    "    print(\"P-Value is less than alpha:\")\n",
    "    print('Reject HO (for Ha). Churn' \\\n",
    "          ' is dependent on whether a customer is a single household or a non-single household.')\n",
    "else:\n",
    "    print('Fail to reject HO. Churn' \\\n",
    "          ' is independent of whether a customer is a single household or a non-single household.')"
   ]
  },
  {
   "cell_type": "markdown",
   "metadata": {},
   "source": [
    "Does a customer churn independent of whether they have a month-to-month contract or other types of contracts\n",
    "\n",
    "> \\$H_{O}$ Churn is independent of whether they have a month-to-month contract or other types of contracts.\n",
    "\n",
    "> \\$H_{a}$ Churn is dependent on whether they have a month-to-month contract or other types of contracts."
   ]
  },
  {
   "cell_type": "code",
   "execution_count": 71,
   "metadata": {},
   "outputs": [],
   "source": [
    "month_to_month_or_other = np.where((X_train['contract_type_One year']==0) & (X_train['contract_type_Two year']==0), 1, 0)"
   ]
  },
  {
   "cell_type": "code",
   "execution_count": 72,
   "metadata": {},
   "outputs": [],
   "source": [
    "outcomes_2 = pd.crosstab(month_to_month_or_other, y_train.churn)"
   ]
  },
  {
   "cell_type": "code",
   "execution_count": 73,
   "metadata": {},
   "outputs": [],
   "source": [
    "outcomes_2 = outcomes_2.rename(index={0:'Year/Two Year', 1: 'Month-to-Month'}, columns={0:'No Churn', 1:'Churn'})\n",
    "outcomes_2.index.name=''\n",
    "outcomes_2.columns.name=''"
   ]
  },
  {
   "cell_type": "code",
   "execution_count": 74,
   "metadata": {},
   "outputs": [
    {
     "data": {
      "text/html": [
       "<div>\n",
       "<style scoped>\n",
       "    .dataframe tbody tr th:only-of-type {\n",
       "        vertical-align: middle;\n",
       "    }\n",
       "\n",
       "    .dataframe tbody tr th {\n",
       "        vertical-align: top;\n",
       "    }\n",
       "\n",
       "    .dataframe thead th {\n",
       "        text-align: right;\n",
       "    }\n",
       "</style>\n",
       "<table border=\"1\" class=\"dataframe\">\n",
       "  <thead>\n",
       "    <tr style=\"text-align: right;\">\n",
       "      <th></th>\n",
       "      <th>No Churn</th>\n",
       "      <th>Churn</th>\n",
       "    </tr>\n",
       "    <tr>\n",
       "      <th></th>\n",
       "      <th></th>\n",
       "      <th></th>\n",
       "    </tr>\n",
       "  </thead>\n",
       "  <tbody>\n",
       "    <tr>\n",
       "      <th>Year/Two Year</th>\n",
       "      <td>1672</td>\n",
       "      <td>111</td>\n",
       "    </tr>\n",
       "    <tr>\n",
       "      <th>Month-to-Month</th>\n",
       "      <td>1225</td>\n",
       "      <td>935</td>\n",
       "    </tr>\n",
       "  </tbody>\n",
       "</table>\n",
       "</div>"
      ],
      "text/plain": [
       "                No Churn  Churn\n",
       "                               \n",
       "Year/Two Year       1672    111\n",
       "Month-to-Month      1225    935"
      ]
     },
     "execution_count": 74,
     "metadata": {},
     "output_type": "execute_result"
    }
   ],
   "source": [
    "outcomes_2"
   ]
  },
  {
   "cell_type": "code",
   "execution_count": 75,
   "metadata": {},
   "outputs": [
    {
     "name": "stdout",
     "output_type": "stream",
     "text": [
      "Chi2: 686.43\n",
      "P-Value: 0.00\n",
      "alpha: 0.05\n",
      "\n",
      "P-Value is less than alpha:\n",
      "Reject HO (for Ha). Churn is dependent on which contract type a customer has\n"
     ]
    }
   ],
   "source": [
    "chi2, p, degf, expected = stats.chi2_contingency(outcomes_2)\n",
    "\n",
    "print((\"Chi2: {:.2f}\" \\\n",
    "      \"\\nP-Value: {:.2f}\\nalpha: {:.2f}\\n\").format(chi2, p, alpha))\n",
    "\n",
    "if p < alpha:\n",
    "    print(\"P-Value is less than alpha:\")\n",
    "    print('Reject HO (for Ha). Churn' \\\n",
    "          ' is dependent on which contract type a customer has')\n",
    "else:\n",
    "    print('Fail to reject HO. Churn' \\\n",
    "          ' is independent of which contract type a customer has')"
   ]
  },
  {
   "cell_type": "code",
   "execution_count": 76,
   "metadata": {},
   "outputs": [],
   "source": [
    "a = X_train.corr()[abs(X_train.corr()) < .01].replace(np.nan,0)"
   ]
  },
  {
   "cell_type": "code",
   "execution_count": 77,
   "metadata": {},
   "outputs": [
    {
     "data": {
      "image/png": "[encoded data removed]",
      "text/plain": [
       "<Figure size 720x720 with 2 Axes>"
      ]
     },
     "metadata": {},
     "output_type": "display_data"
    }
   ],
   "source": [
    "mask = np.zeros_like(a)\n",
    "mask[np.triu_indices_from(mask)] = True\n",
    "\n",
    "with sns.axes_style(\"white\"):\n",
    "    f, ax = plt.subplots(figsize=(10, 10))\n",
    "    \n",
    "    ax = sns.heatmap(a, mask=mask,square=True, cmap='coolwarm', linewidths=.5)"
   ]
  },
  {
   "cell_type": "markdown",
   "metadata": {},
   "source": [
    "## Modeling\n",
    "---"
   ]
  },
  {
   "cell_type": "code",
   "execution_count": 78,
   "metadata": {},
   "outputs": [],
   "source": [
    "from sklearn.linear_model import LogisticRegression\n",
    "from sklearn.tree import DecisionTreeClassifier\n",
    "from sklearn.ensemble import RandomForestClassifier\n",
    "from sklearn.neighbors import KNeighborsClassifier"
   ]
  },
  {
   "cell_type": "code",
   "execution_count": 37,
   "metadata": {},
   "outputs": [],
   "source": [
    "X_validate, y_validate = data_target_split(validate)\n",
    "X_test, y_test = data_target_split(test)"
   ]
  },
  {
   "cell_type": "code",
   "execution_count": 38,
   "metadata": {},
   "outputs": [
    {
     "name": "stdout",
     "output_type": "stream",
     "text": [
      "Baseline Accuracy: 73.46%\n"
     ]
    }
   ],
   "source": [
    "# Baseline Accuracy\n",
    "baseline_accuracy = df.churn.value_counts(normalize=True)[0]\n",
    "print(f\"Baseline Accuracy: {baseline_accuracy:.2%}\")"
   ]
  },
  {
   "cell_type": "markdown",
   "metadata": {},
   "source": [
    "### Logistic Regression"
   ]
  },
  {
   "cell_type": "code",
   "execution_count": 107,
   "metadata": {},
   "outputs": [],
   "source": [
    "logreg = LogisticRegression().fit(X_train, y_train)\n",
    "logreg_train_accuracy = logreg.score(X_train, y_train)"
   ]
  },
  {
   "cell_type": "markdown",
   "metadata": {},
   "source": [
    "### Decision Tree"
   ]
  },
  {
   "cell_type": "code",
   "execution_count": 108,
   "metadata": {},
   "outputs": [],
   "source": [
    "forest = DecisionTreeClassifier().fit(X_train, y_train)\n",
    "forest_train_accuracy = forest.score(X_train, y_train)"
   ]
  },
  {
   "cell_type": "markdown",
   "metadata": {},
   "source": [
    "### Random Forest"
   ]
  },
  {
   "cell_type": "code",
   "execution_count": 109,
   "metadata": {},
   "outputs": [],
   "source": [
    "rforest = RandomForestClassifier().fit(X_train, y_train)\n",
    "r_forest_train_accuracy = rforest.score(X_train, y_train)"
   ]
  },
  {
   "cell_type": "markdown",
   "metadata": {},
   "source": [
    "### K Nearest Neighbors"
   ]
  },
  {
   "cell_type": "code",
   "execution_count": 110,
   "metadata": {},
   "outputs": [],
   "source": [
    "knn = KNeighborsClassifier().fit(X_train, y_train)\n",
    "knn_train_accuracy = knn.score(X_train, y_train)"
   ]
  },
  {
   "cell_type": "markdown",
   "metadata": {},
   "source": [
    "## Evaluation\n",
    "---\n",
    "### Training Set Accuracy"
   ]
  },
  {
   "cell_type": "code",
   "execution_count": 111,
   "metadata": {},
   "outputs": [
    {
     "name": "stdout",
     "output_type": "stream",
     "text": [
      "Baseline Accuracy --- 73.46%\n",
      "\n",
      "Logistic Regression Accuracy --- 81.21%\n",
      "Decision Tree Accuracy --- 99.82%\n",
      "Random Forest Accuracy --- 99.82%\n",
      "KNN Accuracy Accuracy --- 83.13%\n"
     ]
    }
   ],
   "source": [
    "print(f\"Baseline Accuracy --- {baseline_accuracy:.2%}\")\n",
    "print(\"\")\n",
    "print(f\"Logistic Regression Accuracy --- {logreg_train_accuracy:.2%}\")\n",
    "print(f\"Decision Tree Accuracy --- {forest_train_accuracy:.2%}\")\n",
    "print(f\"Random Forest Accuracy --- {r_forest_train_accuracy:.2%}\")\n",
    "print(f\"KNN Accuracy Accuracy --- {knn_train_accuracy:.2%}\")"
   ]
  },
  {
   "cell_type": "markdown",
   "metadata": {},
   "source": [
    "### Validation Set Accuracy"
   ]
  },
  {
   "cell_type": "code",
   "execution_count": 112,
   "metadata": {},
   "outputs": [
    {
     "name": "stdout",
     "output_type": "stream",
     "text": [
      "Logistic Regression Accuracy --- 80.19%\n",
      "Decision Tree Accuracy --- 73.45%\n",
      "Random Forest Accuracy --- 78.42%\n",
      "KNN Accuracy Accuracy --- 75.52%\n"
     ]
    }
   ],
   "source": [
    "logreg_validate_accuracy = logreg.score(X_validate, y_validate)\n",
    "forest_validate_accuracy = forest.score(X_validate, y_validate)\n",
    "r_forest_validate_accuracy = rforest.score(X_validate, y_validate)\n",
    "knn_validate_accuracy = knn.score(X_validate, y_validate)\n",
    "\n",
    "print(f\"Logistic Regression Accuracy --- {logreg_validate_accuracy:.2%}\")\n",
    "print(f\"Decision Tree Accuracy --- {forest_validate_accuracy:.2%}\")\n",
    "print(f\"Random Forest Accuracy --- {r_forest_validate_accuracy:.2%}\")\n",
    "print(f\"KNN Accuracy Accuracy --- {knn_validate_accuracy:.2%}\")"
   ]
  },
  {
   "cell_type": "markdown",
   "metadata": {},
   "source": [
    "### Test Set Accuracy"
   ]
  },
  {
   "cell_type": "code",
   "execution_count": 113,
   "metadata": {},
   "outputs": [
    {
     "name": "stdout",
     "output_type": "stream",
     "text": [
      "Logistic Regression Accuracy --- 78.57%\n"
     ]
    }
   ],
   "source": [
    "logreg_test_accuracy = logreg.score(X_test, y_test)\n",
    "print(f\"Logistic Regression Accuracy --- {logreg_test_accuracy:.2%}\")"
   ]
  },
  {
   "cell_type": "markdown",
   "metadata": {},
   "source": [
    "### Predicting Customer Churn"
   ]
  },
  {
   "cell_type": "code",
   "execution_count": 114,
   "metadata": {},
   "outputs": [],
   "source": [
    "train, validate, test = preprocessed_data()"
   ]
  },
  {
   "cell_type": "code",
   "execution_count": 115,
   "metadata": {},
   "outputs": [],
   "source": [
    "df_telco = pd.concat([train, validate, test], axis=0)"
   ]
  },
  {
   "cell_type": "code",
   "execution_count": 116,
   "metadata": {},
   "outputs": [],
   "source": [
    "customer_ids = df_telco['customer_id']\n",
    "df_telco_data = df_telco.drop(columns=['customer_id', 'churn'])\n",
    "df_telco_target = df_telco.churn"
   ]
  },
  {
   "cell_type": "code",
   "execution_count": 117,
   "metadata": {},
   "outputs": [
    {
     "name": "stdout",
     "output_type": "stream",
     "text": [
      "Logistic Regression Accuracy on Telco Data --- 80.43%\n"
     ]
    }
   ],
   "source": [
    "telco_accuracy = logreg.score(df_telco_data, df_telco_target)\n",
    "print(f\"Logistic Regression Accuracy on Telco Data --- {telco_accuracy:.2%}\")"
   ]
  },
  {
   "cell_type": "markdown",
   "metadata": {},
   "source": [
    "### Create a  CSV file of customer churn predictions"
   ]
  },
  {
   "cell_type": "code",
   "execution_count": 50,
   "metadata": {},
   "outputs": [],
   "source": [
    "prediction_of_churn = pd.DataFrame({'churn_prediction' : logreg.predict(df_telco_data)})"
   ]
  },
  {
   "cell_type": "code",
   "execution_count": 51,
   "metadata": {},
   "outputs": [],
   "source": [
    "churn_probability = pd.DataFrame({'churn_probability': logreg.predict_proba(df_telco_data)[:,1]})"
   ]
  },
  {
   "cell_type": "code",
   "execution_count": 52,
   "metadata": {},
   "outputs": [],
   "source": [
    "data = [customer_ids, churn_probability, prediction_of_churn]\n",
    "\n",
    "customer_churn = pd.concat(data, axis=1)"
   ]
  },
  {
   "cell_type": "code",
   "execution_count": 118,
   "metadata": {},
   "outputs": [
    {
     "data": {
      "text/html": [
       "<div>\n",
       "<style scoped>\n",
       "    .dataframe tbody tr th:only-of-type {\n",
       "        vertical-align: middle;\n",
       "    }\n",
       "\n",
       "    .dataframe tbody tr th {\n",
       "        vertical-align: top;\n",
       "    }\n",
       "\n",
       "    .dataframe thead th {\n",
       "        text-align: right;\n",
       "    }\n",
       "</style>\n",
       "<table border=\"1\" class=\"dataframe\">\n",
       "  <thead>\n",
       "    <tr style=\"text-align: right;\">\n",
       "      <th></th>\n",
       "      <th>customer_id</th>\n",
       "      <th>churn_probability</th>\n",
       "      <th>churn_prediction</th>\n",
       "    </tr>\n",
       "  </thead>\n",
       "  <tbody>\n",
       "    <tr>\n",
       "      <th>0</th>\n",
       "      <td>0003-MKNFE</td>\n",
       "      <td>0.053155</td>\n",
       "      <td>0</td>\n",
       "    </tr>\n",
       "    <tr>\n",
       "      <th>1</th>\n",
       "      <td>0013-MHZWF</td>\n",
       "      <td>0.278553</td>\n",
       "      <td>0</td>\n",
       "    </tr>\n",
       "    <tr>\n",
       "      <th>2</th>\n",
       "      <td>0015-UOCOJ</td>\n",
       "      <td>0.510915</td>\n",
       "      <td>1</td>\n",
       "    </tr>\n",
       "    <tr>\n",
       "      <th>3</th>\n",
       "      <td>0023-HGHWL</td>\n",
       "      <td>0.779931</td>\n",
       "      <td>1</td>\n",
       "    </tr>\n",
       "    <tr>\n",
       "      <th>4</th>\n",
       "      <td>0032-PGELS</td>\n",
       "      <td>0.134368</td>\n",
       "      <td>0</td>\n",
       "    </tr>\n",
       "  </tbody>\n",
       "</table>\n",
       "</div>"
      ],
      "text/plain": [
       "  customer_id  churn_probability  churn_prediction\n",
       "0  0003-MKNFE           0.053155                 0\n",
       "1  0013-MHZWF           0.278553                 0\n",
       "2  0015-UOCOJ           0.510915                 1\n",
       "3  0023-HGHWL           0.779931                 1\n",
       "4  0032-PGELS           0.134368                 0"
      ]
     },
     "execution_count": 118,
     "metadata": {},
     "output_type": "execute_result"
    }
   ],
   "source": [
    "customer_churn.head()"
   ]
  },
  {
   "cell_type": "code",
   "execution_count": 53,
   "metadata": {},
   "outputs": [],
   "source": [
    "# customer_churn.to_csv('customer_churn_predictions.csv')"
   ]
  },
  {
   "cell_type": "markdown",
   "metadata": {},
   "source": [
    "## Conclusion\n",
    "---"
   ]
  },
  {
   "cell_type": "code",
   "execution_count": null,
   "metadata": {},
   "outputs": [],
   "source": []
  },
  {
   "cell_type": "markdown",
   "metadata": {},
   "source": [
    "[Return to the top](#Telco™-Project)"
   ]
  },
  {
   "cell_type": "markdown",
   "metadata": {},
   "source": [
    "## Appendix"
   ]
  },
  {
   "cell_type": "code",
   "execution_count": null,
   "metadata": {},
   "outputs": [],
   "source": [
    "# Data Dictionaries for payments, contracts, and internet\n",
    "# Key == ID number, non-zero value in row correspond to matching ID number\n",
    "payments = pd.crosstab(df_telco.payment_type_id, df_telco.payment_type)\n",
    "contracts = pd.crosstab(df_telco.contract_type_id, df_telco.contract_type)\n",
    "internet = pd.crosstab(df_telco.internet_service_type_id, df_telco.internet_service_type)"
   ]
  },
  {
   "cell_type": "code",
   "execution_count": null,
   "metadata": {},
   "outputs": [],
   "source": [
    "# Distribution of Tenure\n",
    "sns.kdeplot(data=train,\n",
    "            x=train.tenure_in_months,\n",
    "            hue=train.churn,\n",
    "            multiple='stack')\n",
    "\n",
    "plt.xlabel('Tenure (in months)')\n",
    "plt.xlim(0, train.tenure_in_months.max());"
   ]
  },
  {
   "cell_type": "code",
   "execution_count": null,
   "metadata": {},
   "outputs": [],
   "source": [
    "sns.kdeplot(data=train,\n",
    "            x=train.monthly_charges,\n",
    "            hue=train.churn,\n",
    "            multiple='stack')\n",
    "plt.xlabel('Monthly Charges (in USD)')\n",
    "plt.xlim(df_telco.monthly_charges.min(),\n",
    "         df_telco.monthly_charges.max());"
   ]
  },
  {
   "cell_type": "code",
   "execution_count": 54,
   "metadata": {},
   "outputs": [],
   "source": [
    "# sns.heatmap(abs(X_train.corr()), cmap='icefire')"
   ]
  }
 ],
 "metadata": {
  "kernelspec": {
   "display_name": "Python 3",
   "language": "python",
   "name": "python3"
  },
  "language_info": {
   "codemirror_mode": {
    "name": "ipython",
    "version": 3
   },
   "file_extension": ".py",
   "mimetype": "text/x-python",
   "name": "python",
   "nbconvert_exporter": "python",
   "pygments_lexer": "ipython3",
   "version": "3.7.6"
  }
 },
 "nbformat": 4,
 "nbformat_minor": 4
}
